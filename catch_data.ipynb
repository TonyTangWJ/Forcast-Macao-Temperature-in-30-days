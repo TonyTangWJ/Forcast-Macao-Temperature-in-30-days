{
 "cells": [
  {
   "cell_type": "code",
   "execution_count": null,
   "metadata": {},
   "outputs": [],
   "source": [
    "from selenium import webdriver\n",
    "from selenium.webdriver.common.by import By\n",
    "from selenium.webdriver.support.ui import WebDriverWait\n",
    "from selenium.webdriver.support import expected_conditions as EC\n",
    "import csv\n"
   ]
  },
  {
   "cell_type": "code",
   "execution_count": null,
   "metadata": {},
   "outputs": [],
   "source": [
    "# init csv file\n",
    "csv_header = [\n",
    "    \"year\", \"Month\", \"Day\",\n",
    "    \"Temp_Max\", \"Temp_Avg\", \"Temp_Min\",\n",
    "    \"Dew_Max\", \"Dew_Avg\", \"Dew_Min\",\n",
    "    \"Humidity_Max\", \"Humidity_Avg\", \"Humidity_Min\",\n",
    "    \"Wind_Max\", \"Wind_Avg\", \"Wind_Min\",\n",
    "    \"Pressure_Max\", \"Pressure_Avg\", \"Pressure_Min\",\n",
    "    \"Precipitation\"\n",
    "]\n",
    "\n",
    "with open('weather_data.csv', 'w', newline='') as f:\n",
    "    writer = csv.writer(f)\n",
    "    writer.writerow(csv_header)  # 写入标题"
   ]
  },
  {
   "cell_type": "code",
   "execution_count": 2,
   "metadata": {},
   "outputs": [],
   "source": [
    "# open a webdriver\n",
    "def open_driver():\n",
    "    options = webdriver.ChromeOptions()\n",
    "    options.add_experimental_option('excludeSwitches', ['enable-logging'])\n",
    "    options.add_argument('--headless')\n",
    "    driver = webdriver.Chrome(options=options)\n",
    "    driver.maximize_window()\n",
    "    return driver\n",
    "\n",
    "driver = open_driver()"
   ]
  },
  {
   "cell_type": "code",
   "execution_count": 3,
   "metadata": {},
   "outputs": [],
   "source": [
    "# catch the data per month\n",
    "def catch_month_data(driver, year, month):\n",
    "    url = f\"https://www.wunderground.com/history/monthly/mo/Macau/VMMC/date/{year}-{month}\"\n",
    "    driver.get(url)\n",
    "    WebDriverWait(driver, 20).until(\n",
    "            EC.presence_of_element_located((By.XPATH, \"//lib-city-history-observation/div/div[2]/table/tbody/tr/td[1]\")))\n",
    "    driver.execute_script(\"window.stop();\")\n",
    "\n",
    "    days = [day.text for day in driver.find_elements(By.XPATH, \"//lib-city-history-observation/div/div[2]/table/tbody/tr/td[1]\")]\n",
    "    temperature = [temp.text for temp in driver.find_elements(By.XPATH, \"//lib-city-history-observation/div/div[2]/table/tbody/tr/td[2]\")]\n",
    "    dew = [dew.text for dew in driver.find_elements(By.XPATH, \"//lib-city-history-observation/div/div[2]/table/tbody/tr/td[3]\")]\n",
    "    humidity = [hum.text for hum in driver.find_elements(By.XPATH, \"//lib-city-history-observation/div/div[2]/table/tbody/tr/td[4]\")]\n",
    "    wind = [wind.text for wind in driver.find_elements(By.XPATH, \"//lib-city-history-observation/div/div[2]/table/tbody/tr/td[5]\")]\n",
    "    pressure = [press.text for press in driver.find_elements(By.XPATH, \"//lib-city-history-observation/div/div[2]/table/tbody/tr/td[6]\")]\n",
    "    precipitation = [prec.text for prec in driver.find_elements(By.XPATH, \"//lib-city-history-observation/div/div[2]/table/tbody/tr/td[7]\")]\n",
    "\n",
    "    data = []\n",
    "    data.append(days)\n",
    "    data.append(temperature)\n",
    "    data.append(dew)\n",
    "    data.append(humidity)\n",
    "    data.append(wind)\n",
    "    data.append(pressure)\n",
    "    data.append(precipitation)\n",
    "\n",
    "    print (f\"{year}年{month}月天气数据下载完成\")\n",
    "    return data,year\n"
   ]
  },
  {
   "cell_type": "code",
   "execution_count": 4,
   "metadata": {},
   "outputs": [],
   "source": [
    "# save data into csv file\n",
    "def save_date(data,year):\n",
    "    # 步骤1：解析每个字段的数据\n",
    "    def parse_column(raw_col):\n",
    "        \"\"\"将原始列数据拆分为标题和各行数据\"\"\"\n",
    "        lines = raw_col[0].split('\\n')\n",
    "        header = lines[0] if len(lines) > 0 else \"\"\n",
    "        values = lines[1:] if len(lines) > 1 else []\n",
    "        return header, values\n",
    "\n",
    "    # 解析所有列\n",
    "    headers = []\n",
    "    all_values = []\n",
    "    for col in data:\n",
    "        header, values = parse_column(col)\n",
    "        headers.append(header)\n",
    "        all_values.append(values)\n",
    "\n",
    "    # 步骤2：重组为按日期的行数据\n",
    "    csv_rows = []\n",
    "    for day_idx in range(31):  # 假设每月最多31天\n",
    "        row_data = []\n",
    "        for col_idx in range(len(all_values)):\n",
    "            if day_idx < len(all_values[col_idx]):\n",
    "                row_data.append(all_values[col_idx][day_idx])\n",
    "            else:\n",
    "                pass\n",
    "        \n",
    "        # 将温度/露点等Max Avg Min拆分为单独列\n",
    "        if len(row_data) >= 6:  # 确保有足够列\n",
    "            new_row = [\n",
    "                year,\n",
    "                headers[0],        # Month\n",
    "                row_data[0],      # Day\n",
    "                *row_data[1].split(),  # Temp (Max, Avg, Min)\n",
    "                *row_data[2].split(),  # Dew (Max, Avg, Min)\n",
    "                *row_data[3].split(),  # Humidity\n",
    "                *row_data[4].split(),  # Wind\n",
    "                *row_data[5].split(),  # Pressure\n",
    "                row_data[6] if len(row_data) > 6 else \"\"  # Precipitation\n",
    "            ]\n",
    "            csv_rows.append(new_row)\n",
    "\n",
    "    # 步骤3：写入CSV文件\n",
    "    csv_header = [\n",
    "        \"Month\", \"Day\",\n",
    "        \"Temp_Max\", \"Temp_Avg\", \"Temp_Min\",\n",
    "        \"Dew_Max\", \"Dew_Avg\", \"Dew_Min\",\n",
    "        \"Humidity_Max\", \"Humidity_Avg\", \"Humidity_Min\",\n",
    "        \"Wind_Max\", \"Wind_Avg\", \"Wind_Min\",\n",
    "        \"Pressure_Max\", \"Pressure_Avg\", \"Pressure_Min\",\n",
    "        \"Precipitation\"\n",
    "    ]\n",
    "\n",
    "    with open('weather_data.csv', 'a', newline='') as f:\n",
    "        writer = csv.writer(f)\n",
    "        writer.writerows(csv_rows)   # 写入数据\n",
    "\n",
    "    return"
   ]
  },
  {
   "cell_type": "code",
   "execution_count": null,
   "metadata": {},
   "outputs": [],
   "source": [
    "# 获取数据(2001.1-2024.12)\n",
    "for year in range(2021,2025):\n",
    "    for month in range(1,13):\n",
    "        data,year = catch_month_data(driver, year, month)\n",
    "        save_date(data,year)"
   ]
  },
  {
   "cell_type": "code",
   "execution_count": null,
   "metadata": {},
   "outputs": [],
   "source": [
    "# 获取数据(2025.1-2025.3)\n",
    "for month in range(1,4):\n",
    "    data,year = catch_month_data(driver, 2025, month)\n",
    "    save_date(data,year)"
   ]
  }
 ],
 "metadata": {
  "kernelspec": {
   "display_name": "Work",
   "language": "python",
   "name": "python3"
  },
  "language_info": {
   "codemirror_mode": {
    "name": "ipython",
    "version": 3
   },
   "file_extension": ".py",
   "mimetype": "text/x-python",
   "name": "python",
   "nbconvert_exporter": "python",
   "pygments_lexer": "ipython3",
   "version": "3.12.8"
  }
 },
 "nbformat": 4,
 "nbformat_minor": 2
}
