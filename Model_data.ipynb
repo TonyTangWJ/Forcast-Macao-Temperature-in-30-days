{
 "cells": [
  {
   "cell_type": "code",
   "execution_count": null,
   "metadata": {
    "execution": {
     "iopub.execute_input": "2025-03-30T16:35:41.266276Z",
     "iopub.status.busy": "2025-03-30T16:35:41.265988Z",
     "iopub.status.idle": "2025-03-30T16:35:44.574496Z",
     "shell.execute_reply": "2025-03-30T16:35:44.573843Z",
     "shell.execute_reply.started": "2025-03-30T16:35:41.266246Z"
    },
    "id": "SCW6pR1_dutX",
    "trusted": true
   },
   "outputs": [],
   "source": [
    "import numpy as np\n",
    "import pandas as pd\n",
    "from sklearn.preprocessing import MinMaxScaler\n",
    "from sklearn.model_selection import train_test_split\n",
    "from tensorflow.keras.models import Sequential\n",
    "from tensorflow.keras.layers import GRU, LSTM, Dense, Input, LeakyReLU, Dropout\n",
    "from tensorflow.keras.regularizers import L1L2\n",
    "from tensorflow.keras.optimizers import Adam\n",
    "from sklearn.metrics import mean_squared_error\n",
    "from tqdm.auto import tqdm\n",
    "import tensorflow as tf\n",
    "from tensorflow.keras.callbacks import EarlyStopping\n",
    "import csv\n",
    "\n",
    "# 设置随机种子\n",
    "seed = 42\n",
    "tf.random.set_seed(seed)\n",
    "np.random.seed(seed)"
   ]
  },
  {
   "cell_type": "code",
   "execution_count": 2,
   "metadata": {
    "execution": {
     "iopub.execute_input": "2025-03-30T16:35:44.575989Z",
     "iopub.status.busy": "2025-03-30T16:35:44.575546Z",
     "iopub.status.idle": "2025-03-30T16:35:44.579676Z",
     "shell.execute_reply": "2025-03-30T16:35:44.578809Z",
     "shell.execute_reply.started": "2025-03-30T16:35:44.575966Z"
    },
    "id": "l2SA8Yw-qOZD",
    "trusted": true
   },
   "outputs": [],
   "source": [
    "# 定义训练时的评价指标\n",
    "def rmse(y_true, y_pred):\n",
    "  return tf.sqrt(tf.reduce_mean(tf.square(y_pred - y_true)))"
   ]
  },
  {
   "cell_type": "code",
   "execution_count": 3,
   "metadata": {
    "execution": {
     "iopub.execute_input": "2025-03-30T16:35:44.580933Z",
     "iopub.status.busy": "2025-03-30T16:35:44.580638Z",
     "iopub.status.idle": "2025-03-30T16:35:44.597977Z",
     "shell.execute_reply": "2025-03-30T16:35:44.597174Z",
     "shell.execute_reply.started": "2025-03-30T16:35:44.580907Z"
    },
    "id": "Ti-0YjIzsiQf",
    "trusted": true
   },
   "outputs": [],
   "source": [
    "# 递进式训练和测试\n",
    "def model_train_test(epochs, batch_size, model, X_seq, Y_seq, process):\n",
    "  # 保存测试损失和预测结果\n",
    "  test_losses = []\n",
    "  test_predictions = []\n",
    "  test_actuals = []\n",
    "  # 保存初始权重\n",
    "  initial_weights = model.get_weights()\n",
    "\n",
    "  for i in tqdm(range(((len(X_seq) - initial_train_size) // test_size)+1), desc=process):\n",
    "    # 当前训练集和测试集\n",
    "    train_end = initial_train_size + i * test_size\n",
    "    test_end = train_end + test_size\n",
    "\n",
    "    X_train, Y_train = X_seq[:train_end], Y_seq[:train_end]\n",
    "    X_test, Y_test = X_seq[train_end:test_end], Y_seq[train_end:test_end]\n",
    "\n",
    "    # 数据归一化\n",
    "    scaler_X = MinMaxScaler()\n",
    "    scaler_Y = MinMaxScaler()\n",
    "\n",
    "    X_train_scaled = scaler_X.fit_transform(X_train.reshape(-1, X_train.shape[2])).reshape(X_train.shape)\n",
    "    Y_train_scaled = scaler_Y.fit_transform(Y_train.reshape(-1, 1))\n",
    "\n",
    "    # 使用训练集的归一化参数对测试集进行归一化\n",
    "    X_test_scaled = scaler_X.transform(X_test.reshape(-1, X_test.shape[2])).reshape(X_test.shape)\n",
    "    Y_test_scaled = scaler_Y.transform(Y_test.reshape(-1, 1))\n",
    "\n",
    "    # 恢复初始权重\n",
    "    # model.set_weights(initial_weights)\n",
    "\n",
    "    # 训练模型，早停\n",
    "    early_stopping = EarlyStopping(monitor='val_loss', patience=3, restore_best_weights=True)\n",
    "    model.fit(X_train_scaled, Y_train_scaled, epochs=epochs, batch_size=batch_size, validation_split=0.2, callbacks=[early_stopping], verbose=0)\n",
    "\n",
    "    # 在测试集上评估模型\n",
    "    Y_pred_scaled = model.predict(X_test_scaled)\n",
    "    Y_pred = scaler_Y.inverse_transform(Y_pred_scaled)\n",
    "    Y_test = scaler_Y.inverse_transform(Y_test_scaled)\n",
    "\n",
    "    # 计算RMSE\n",
    "    rmse_value = round(np.sqrt(mean_squared_error(Y_test, Y_pred)),4)\n",
    "\n",
    "    # 保存测试损失和预测结果\n",
    "    test_losses.append(rmse_value)\n",
    "    sum_test_loss = sum(test_losses)\n",
    "\n",
    "  return sum_test_loss"
   ]
  },
  {
   "cell_type": "code",
   "execution_count": 4,
   "metadata": {
    "execution": {
     "iopub.execute_input": "2025-03-30T16:35:44.599004Z",
     "iopub.status.busy": "2025-03-30T16:35:44.598777Z",
     "iopub.status.idle": "2025-03-30T16:35:44.613408Z",
     "shell.execute_reply": "2025-03-30T16:35:44.612787Z",
     "shell.execute_reply.started": "2025-03-30T16:35:44.598985Z"
    },
    "trusted": true
   },
   "outputs": [],
   "source": [
    "# 递进式训练和测试\n",
    "def model_train_test_visual(epochs, batch_size, model, X_seq, Y_seq):\n",
    "  # 保存测试损失和预测结果\n",
    "  test_losses = []\n",
    "  test_predictions = []\n",
    "  test_actuals = []\n",
    "  # 保存初始权重\n",
    "  initial_weights = model.get_weights()\n",
    "\n",
    "  for i in tqdm(range(((len(X_seq) - initial_train_size) // test_size)+1)):\n",
    "    # 当前训练集和测试集\n",
    "    train_end = initial_train_size + i * test_size\n",
    "    test_end = train_end + test_size\n",
    "\n",
    "    X_train, Y_train = X_seq[:train_end], Y_seq[:train_end]\n",
    "    X_test, Y_test = X_seq[train_end:test_end], Y_seq[train_end:test_end]\n",
    "\n",
    "    # 数据归一化\n",
    "    scaler_X = MinMaxScaler()\n",
    "    scaler_Y = MinMaxScaler()\n",
    "\n",
    "    X_train_scaled = scaler_X.fit_transform(X_train.reshape(-1, X_train.shape[2])).reshape(X_train.shape)\n",
    "    Y_train_scaled = scaler_Y.fit_transform(Y_train.reshape(-1, 1))\n",
    "\n",
    "    # 使用训练集的归一化参数对测试集进行归一化\n",
    "    X_test_scaled = scaler_X.transform(X_test.reshape(-1, X_test.shape[2])).reshape(X_test.shape)\n",
    "    Y_test_scaled = scaler_Y.transform(Y_test.reshape(-1, 1))\n",
    "\n",
    "    # 训练模型，早停\n",
    "    early_stopping = EarlyStopping(monitor='val_loss', patience=3, restore_best_weights=True)\n",
    "    model.fit(X_train_scaled, Y_train_scaled, epochs=epochs, batch_size=batch_size, validation_split=0.2, callbacks=[early_stopping], verbose=0)\n",
    "\n",
    "    # 在测试集上评估模型\n",
    "    Y_pred_scaled = model.predict(X_test_scaled)\n",
    "    Y_pred = scaler_Y.inverse_transform(Y_pred_scaled)\n",
    "    Y_test = scaler_Y.inverse_transform(Y_test_scaled)\n",
    "    Y_pred = np.round(Y_pred, 1)\n",
    "    Y_test = np.round(Y_test, 1)\n",
    "\n",
    "    # 计算RMSE\n",
    "    rmse_value = round(np.sqrt(mean_squared_error(Y_test, Y_pred)),4)\n",
    "\n",
    "    # 保存测试损失和预测结果\n",
    "    test_losses.append(rmse_value)\n",
    "    sum_test_loss = sum(test_losses)\n",
    "    test_predictions.append(Y_pred)\n",
    "    test_actuals.append(Y_test)\n",
    "\n",
    "  return test_losses, sum_test_loss, test_predictions, test_actuals"
   ]
  },
  {
   "cell_type": "code",
   "execution_count": 5,
   "metadata": {
    "execution": {
     "iopub.execute_input": "2025-03-30T16:35:44.615728Z",
     "iopub.status.busy": "2025-03-30T16:35:44.615525Z",
     "iopub.status.idle": "2025-03-30T16:35:44.629663Z",
     "shell.execute_reply": "2025-03-30T16:35:44.629076Z",
     "shell.execute_reply.started": "2025-03-30T16:35:44.615711Z"
    },
    "trusted": true
   },
   "outputs": [],
   "source": [
    "# 采用递进式训练模型，初始划分，用2019年12月31日（含）之前的数据开始初始训练，用后30天数据测试，第一次测试后，将30天数据加入训练集，依次递进\n",
    "initial_train_size = 6940  # 初始训练集大小\n",
    "test_size = 30  # 测试集大小\n",
    "time_steps = 30\n",
    "\n",
    "# 构建时间步\n",
    "# 默认采用7天时间步\n",
    "def create_sequences(X,Y,timesteps=7):\n",
    "    Xs, Ys = [], []\n",
    "    for i in range(len(X) - time_steps):\n",
    "        Xs.append(X[i:(i + time_steps)])\n",
    "        Ys.append(Y[i + time_steps])\n",
    "    return np.array(Xs), np.array(Ys)"
   ]
  },
  {
   "cell_type": "code",
   "execution_count": null,
   "metadata": {
    "execution": {
     "iopub.execute_input": "2025-03-30T16:35:44.631023Z",
     "iopub.status.busy": "2025-03-30T16:35:44.630798Z",
     "iopub.status.idle": "2025-03-30T16:35:44.713168Z",
     "shell.execute_reply": "2025-03-30T16:35:44.712541Z",
     "shell.execute_reply.started": "2025-03-30T16:35:44.631005Z"
    },
    "id": "oA4UnT4keHge",
    "trusted": true
   },
   "outputs": [],
   "source": [
    "# 加载数据\n",
    "data = pd.read_csv('weather_data_cleaned.csv')\n",
    "\n",
    "# 特征选择\n",
    "features = ['Temp_Max', 'Temp_Avg', 'Temp_Min', 'Dew_Max', 'Dew_Avg',\n",
    "       'Dew_Min', 'Humidity_Max', 'Humidity_Avg', 'Humidity_Min', 'Wind_Max',\n",
    "       'Wind_Avg', 'Wind_Min', 'Pressure_Max', 'Pressure_Avg', 'Pressure_Min',\n",
    "       'Temp_Max_3', 'Temp_Max_7', 'Temp_Min_3', 'Temp_Min_7', 'Temp_Avg_3',\n",
    "       'Temp_Avg_7', 'Temp_Diff_Max_Avg', 'Temp_Diff_Min_Avg',\n",
    "       'Temp_Diff_Max_Min', 'Dew_Max_3', 'Dew_Max_7', 'Dew_Min_3', 'Dew_Min_7',\n",
    "       'Dew_Avg_3', 'Dew_Avg_7', 'Dew_Diff_Max_Avg', 'Dew_Diff_Min_Avg',\n",
    "       'Dew_Diff_Max_Min', 'Humidity_Max_3', 'Humidity_Max_7',\n",
    "       'Humidity_Min_3', 'Humidity_Min_7', 'Humidity_Avg_3', 'Humidity_Avg_7',\n",
    "       'Humidity_Diff_Max_Avg', 'Humidity_Diff_Min_Avg',\n",
    "       'Humidity_Diff_Max_Min', 'Wind_Max_3', 'Wind_Max_7', 'Wind_Min_3',\n",
    "       'Wind_Min_7', 'Wind_Avg_3', 'Wind_Avg_7', 'Wind_Diff_Max_Avg',\n",
    "       'Wind_Diff_Min_Avg', 'Wind_Diff_Max_Min', 'Pressure_Max_3',\n",
    "       'Pressure_Max_7', 'Pressure_Min_3', 'Pressure_Min_7', 'Pressure_Avg_3',\n",
    "       'Pressure_Avg_7', 'Pressure_Diff_Max_Avg', 'Pressure_Diff_Min_Avg',\n",
    "       'Pressure_Diff_Max_Min']\n",
    "\n",
    "feature_all = []\n",
    "for _ in features:\n",
    "    features_selected = features.copy()\n",
    "    features_selected.remove(_)\n",
    "    feature_all.append(features_selected)\n",
    "\n",
    "# 定义CSV文件路径\n",
    "csv_file_path = 'feature_importance.csv'"
   ]
  },
  {
   "cell_type": "code",
   "execution_count": 7,
   "metadata": {
    "execution": {
     "iopub.execute_input": "2025-03-30T16:35:44.714103Z",
     "iopub.status.busy": "2025-03-30T16:35:44.713903Z",
     "iopub.status.idle": "2025-03-30T16:35:44.719588Z",
     "shell.execute_reply": "2025-03-30T16:35:44.718920Z",
     "shell.execute_reply.started": "2025-03-30T16:35:44.714087Z"
    },
    "trusted": true
   },
   "outputs": [
    {
     "data": {
      "text/plain": [
       "\"\\n# 筛选特征\\n# 读取已完成的数据\\ncut_data = pd.read_csv(csv_file_path)\\ncut = len(cut_data.index)\\nfor _, feature in zip(features[cut:], feature_all):\\n    X = data[feature].values\\n    Y = data['target'].values\\n    X_seq, Y_seq = create_sequences(X, Y, time_steps)\\n    # GRU模型\\n    model = Sequential()\\n    model.add(Input(shape=(time_steps, X_seq.shape[2])))\\n    model.add(GRU(units=50, return_sequences=True))\\n    model.add(Dropout(0.2))\\n    model.add(GRU(units=20))\\n    model.add(Dropout(0.2))\\n    model.add(Dense(1))\\n    optimizer = Adam(learning_rate=0.001)\\n    model.compile(optimizer=optimizer, loss=rmse)\\n    # 训练模型\\n    sum_test_loss = model_train_test(epochs=20, batch_size=32, model=model, \\n                                     X_seq = X_seq, Y_seq = Y_seq, process = _)\\n    sum_test_loss = round(sum_test_loss,4)\\n    importance = round(sum_test_loss - base_sum_test_loss,4)\\n    print(f'{_}重要性：{importance}')\\n    # 打开文件并追加数据\\n    with open(csv_file_path, mode='a', newline='') as file:\\n        writer = csv.writer(file)\\n        # 写入当前特征的重要性\\n        writer.writerow([_, importance])\\n\""
      ]
     },
     "execution_count": 7,
     "metadata": {},
     "output_type": "execute_result"
    }
   ],
   "source": [
    "'''\n",
    "# 筛选特征\n",
    "# 读取已完成的数据\n",
    "cut_data = pd.read_csv(csv_file_path)\n",
    "cut = len(cut_data.index)\n",
    "for _, feature in zip(features[cut:], feature_all):\n",
    "    X = data[feature].values\n",
    "    Y = data['target'].values\n",
    "    X_seq, Y_seq = create_sequences(X, Y, time_steps)\n",
    "    # GRU模型\n",
    "    model = Sequential()\n",
    "    model.add(Input(shape=(time_steps, X_seq.shape[2])))\n",
    "    model.add(GRU(units=50, return_sequences=True))\n",
    "    model.add(Dropout(0.2))\n",
    "    model.add(GRU(units=20))\n",
    "    model.add(Dropout(0.2))\n",
    "    model.add(Dense(1))\n",
    "    optimizer = Adam(learning_rate=0.001)\n",
    "    model.compile(optimizer=optimizer, loss=rmse)\n",
    "    # 训练模型\n",
    "    sum_test_loss = model_train_test(epochs=20, batch_size=32, model=model, \n",
    "                                     X_seq = X_seq, Y_seq = Y_seq, process = _)\n",
    "    sum_test_loss = round(sum_test_loss,4)\n",
    "    importance = round(sum_test_loss - base_sum_test_loss,4)\n",
    "    print(f'{_}重要性：{importance}')\n",
    "    # 打开文件并追加数据\n",
    "    with open(csv_file_path, mode='a', newline='') as file:\n",
    "        writer = csv.writer(file)\n",
    "        # 写入当前特征的重要性\n",
    "        writer.writerow([_, importance])\n",
    "'''"
   ]
  },
  {
   "cell_type": "code",
   "execution_count": 8,
   "metadata": {
    "execution": {
     "iopub.execute_input": "2025-03-30T16:35:44.720592Z",
     "iopub.status.busy": "2025-03-30T16:35:44.720389Z",
     "iopub.status.idle": "2025-03-30T16:43:28.636293Z",
     "shell.execute_reply": "2025-03-30T16:43:28.635230Z",
     "shell.execute_reply.started": "2025-03-30T16:35:44.720568Z"
    },
    "trusted": true
   },
   "outputs": [
    {
     "data": {
      "application/vnd.jupyter.widget-view+json": {
       "model_id": "4614f33bcad8479094b7c17192eb2c53",
       "version_major": 2,
       "version_minor": 0
      },
      "text/plain": [
       "  0%|          | 0/63 [00:00<?, ?it/s]"
      ]
     },
     "metadata": {},
     "output_type": "display_data"
    },
    {
     "name": "stdout",
     "output_type": "stream",
     "text": [
      "\u001b[1m1/1\u001b[0m \u001b[32m━━━━━━━━━━━━━━━━━━━━\u001b[0m\u001b[37m\u001b[0m \u001b[1m0s\u001b[0m 130ms/step\n",
      "\u001b[1m1/1\u001b[0m \u001b[32m━━━━━━━━━━━━━━━━━━━━\u001b[0m\u001b[37m\u001b[0m \u001b[1m0s\u001b[0m 16ms/step\n",
      "\u001b[1m1/1\u001b[0m \u001b[32m━━━━━━━━━━━━━━━━━━━━\u001b[0m\u001b[37m\u001b[0m \u001b[1m0s\u001b[0m 16ms/step\n",
      "\u001b[1m1/1\u001b[0m \u001b[32m━━━━━━━━━━━━━━━━━━━━\u001b[0m\u001b[37m\u001b[0m \u001b[1m0s\u001b[0m 17ms/step\n",
      "\u001b[1m1/1\u001b[0m \u001b[32m━━━━━━━━━━━━━━━━━━━━\u001b[0m\u001b[37m\u001b[0m \u001b[1m0s\u001b[0m 17ms/step\n",
      "\u001b[1m1/1\u001b[0m \u001b[32m━━━━━━━━━━━━━━━━━━━━\u001b[0m\u001b[37m\u001b[0m \u001b[1m0s\u001b[0m 17ms/step\n",
      "\u001b[1m1/1\u001b[0m \u001b[32m━━━━━━━━━━━━━━━━━━━━\u001b[0m\u001b[37m\u001b[0m \u001b[1m0s\u001b[0m 17ms/step\n",
      "\u001b[1m1/1\u001b[0m \u001b[32m━━━━━━━━━━━━━━━━━━━━\u001b[0m\u001b[37m\u001b[0m \u001b[1m0s\u001b[0m 17ms/step\n",
      "\u001b[1m1/1\u001b[0m \u001b[32m━━━━━━━━━━━━━━━━━━━━\u001b[0m\u001b[37m\u001b[0m \u001b[1m0s\u001b[0m 16ms/step\n",
      "\u001b[1m1/1\u001b[0m \u001b[32m━━━━━━━━━━━━━━━━━━━━\u001b[0m\u001b[37m\u001b[0m \u001b[1m0s\u001b[0m 18ms/step\n",
      "\u001b[1m1/1\u001b[0m \u001b[32m━━━━━━━━━━━━━━━━━━━━\u001b[0m\u001b[37m\u001b[0m \u001b[1m0s\u001b[0m 17ms/step\n",
      "\u001b[1m1/1\u001b[0m \u001b[32m━━━━━━━━━━━━━━━━━━━━\u001b[0m\u001b[37m\u001b[0m \u001b[1m0s\u001b[0m 17ms/step\n",
      "\u001b[1m1/1\u001b[0m \u001b[32m━━━━━━━━━━━━━━━━━━━━\u001b[0m\u001b[37m\u001b[0m \u001b[1m0s\u001b[0m 16ms/step\n",
      "\u001b[1m1/1\u001b[0m \u001b[32m━━━━━━━━━━━━━━━━━━━━\u001b[0m\u001b[37m\u001b[0m \u001b[1m0s\u001b[0m 16ms/step\n",
      "\u001b[1m1/1\u001b[0m \u001b[32m━━━━━━━━━━━━━━━━━━━━\u001b[0m\u001b[37m\u001b[0m \u001b[1m0s\u001b[0m 17ms/step\n",
      "\u001b[1m1/1\u001b[0m \u001b[32m━━━━━━━━━━━━━━━━━━━━\u001b[0m\u001b[37m\u001b[0m \u001b[1m0s\u001b[0m 16ms/step\n",
      "\u001b[1m1/1\u001b[0m \u001b[32m━━━━━━━━━━━━━━━━━━━━\u001b[0m\u001b[37m\u001b[0m \u001b[1m0s\u001b[0m 16ms/step\n",
      "\u001b[1m1/1\u001b[0m \u001b[32m━━━━━━━━━━━━━━━━━━━━\u001b[0m\u001b[37m\u001b[0m \u001b[1m0s\u001b[0m 17ms/step\n",
      "\u001b[1m1/1\u001b[0m \u001b[32m━━━━━━━━━━━━━━━━━━━━\u001b[0m\u001b[37m\u001b[0m \u001b[1m0s\u001b[0m 17ms/step\n",
      "\u001b[1m1/1\u001b[0m \u001b[32m━━━━━━━━━━━━━━━━━━━━\u001b[0m\u001b[37m\u001b[0m \u001b[1m0s\u001b[0m 17ms/step\n",
      "\u001b[1m1/1\u001b[0m \u001b[32m━━━━━━━━━━━━━━━━━━━━\u001b[0m\u001b[37m\u001b[0m \u001b[1m0s\u001b[0m 17ms/step\n",
      "\u001b[1m1/1\u001b[0m \u001b[32m━━━━━━━━━━━━━━━━━━━━\u001b[0m\u001b[37m\u001b[0m \u001b[1m0s\u001b[0m 18ms/step\n",
      "\u001b[1m1/1\u001b[0m \u001b[32m━━━━━━━━━━━━━━━━━━━━\u001b[0m\u001b[37m\u001b[0m \u001b[1m0s\u001b[0m 17ms/step\n",
      "\u001b[1m1/1\u001b[0m \u001b[32m━━━━━━━━━━━━━━━━━━━━\u001b[0m\u001b[37m\u001b[0m \u001b[1m0s\u001b[0m 16ms/step\n",
      "\u001b[1m1/1\u001b[0m \u001b[32m━━━━━━━━━━━━━━━━━━━━\u001b[0m\u001b[37m\u001b[0m \u001b[1m0s\u001b[0m 17ms/step\n",
      "\u001b[1m1/1\u001b[0m \u001b[32m━━━━━━━━━━━━━━━━━━━━\u001b[0m\u001b[37m\u001b[0m \u001b[1m0s\u001b[0m 17ms/step\n",
      "\u001b[1m1/1\u001b[0m \u001b[32m━━━━━━━━━━━━━━━━━━━━\u001b[0m\u001b[37m\u001b[0m \u001b[1m0s\u001b[0m 17ms/step\n",
      "\u001b[1m1/1\u001b[0m \u001b[32m━━━━━━━━━━━━━━━━━━━━\u001b[0m\u001b[37m\u001b[0m \u001b[1m0s\u001b[0m 17ms/step\n",
      "\u001b[1m1/1\u001b[0m \u001b[32m━━━━━━━━━━━━━━━━━━━━\u001b[0m\u001b[37m\u001b[0m \u001b[1m0s\u001b[0m 18ms/step\n",
      "\u001b[1m1/1\u001b[0m \u001b[32m━━━━━━━━━━━━━━━━━━━━\u001b[0m\u001b[37m\u001b[0m \u001b[1m0s\u001b[0m 16ms/step\n",
      "\u001b[1m1/1\u001b[0m \u001b[32m━━━━━━━━━━━━━━━━━━━━\u001b[0m\u001b[37m\u001b[0m \u001b[1m0s\u001b[0m 17ms/step\n",
      "\u001b[1m1/1\u001b[0m \u001b[32m━━━━━━━━━━━━━━━━━━━━\u001b[0m\u001b[37m\u001b[0m \u001b[1m0s\u001b[0m 16ms/step\n",
      "\u001b[1m1/1\u001b[0m \u001b[32m━━━━━━━━━━━━━━━━━━━━\u001b[0m\u001b[37m\u001b[0m \u001b[1m0s\u001b[0m 17ms/step\n",
      "\u001b[1m1/1\u001b[0m \u001b[32m━━━━━━━━━━━━━━━━━━━━\u001b[0m\u001b[37m\u001b[0m \u001b[1m0s\u001b[0m 17ms/step\n",
      "\u001b[1m1/1\u001b[0m \u001b[32m━━━━━━━━━━━━━━━━━━━━\u001b[0m\u001b[37m\u001b[0m \u001b[1m0s\u001b[0m 17ms/step\n",
      "\u001b[1m1/1\u001b[0m \u001b[32m━━━━━━━━━━━━━━━━━━━━\u001b[0m\u001b[37m\u001b[0m \u001b[1m0s\u001b[0m 17ms/step\n",
      "\u001b[1m1/1\u001b[0m \u001b[32m━━━━━━━━━━━━━━━━━━━━\u001b[0m\u001b[37m\u001b[0m \u001b[1m0s\u001b[0m 17ms/step\n",
      "\u001b[1m1/1\u001b[0m \u001b[32m━━━━━━━━━━━━━━━━━━━━\u001b[0m\u001b[37m\u001b[0m \u001b[1m0s\u001b[0m 18ms/step\n",
      "\u001b[1m1/1\u001b[0m \u001b[32m━━━━━━━━━━━━━━━━━━━━\u001b[0m\u001b[37m\u001b[0m \u001b[1m0s\u001b[0m 22ms/step\n",
      "\u001b[1m1/1\u001b[0m \u001b[32m━━━━━━━━━━━━━━━━━━━━\u001b[0m\u001b[37m\u001b[0m \u001b[1m0s\u001b[0m 17ms/step\n",
      "\u001b[1m1/1\u001b[0m \u001b[32m━━━━━━━━━━━━━━━━━━━━\u001b[0m\u001b[37m\u001b[0m \u001b[1m0s\u001b[0m 18ms/step\n",
      "\u001b[1m1/1\u001b[0m \u001b[32m━━━━━━━━━━━━━━━━━━━━\u001b[0m\u001b[37m\u001b[0m \u001b[1m0s\u001b[0m 17ms/step\n",
      "\u001b[1m1/1\u001b[0m \u001b[32m━━━━━━━━━━━━━━━━━━━━\u001b[0m\u001b[37m\u001b[0m \u001b[1m0s\u001b[0m 16ms/step\n",
      "\u001b[1m1/1\u001b[0m \u001b[32m━━━━━━━━━━━━━━━━━━━━\u001b[0m\u001b[37m\u001b[0m \u001b[1m0s\u001b[0m 16ms/step\n",
      "\u001b[1m1/1\u001b[0m \u001b[32m━━━━━━━━━━━━━━━━━━━━\u001b[0m\u001b[37m\u001b[0m \u001b[1m0s\u001b[0m 17ms/step\n",
      "\u001b[1m1/1\u001b[0m \u001b[32m━━━━━━━━━━━━━━━━━━━━\u001b[0m\u001b[37m\u001b[0m \u001b[1m0s\u001b[0m 17ms/step\n",
      "\u001b[1m1/1\u001b[0m \u001b[32m━━━━━━━━━━━━━━━━━━━━\u001b[0m\u001b[37m\u001b[0m \u001b[1m0s\u001b[0m 17ms/step\n",
      "\u001b[1m1/1\u001b[0m \u001b[32m━━━━━━━━━━━━━━━━━━━━\u001b[0m\u001b[37m\u001b[0m \u001b[1m0s\u001b[0m 17ms/step\n",
      "\u001b[1m1/1\u001b[0m \u001b[32m━━━━━━━━━━━━━━━━━━━━\u001b[0m\u001b[37m\u001b[0m \u001b[1m0s\u001b[0m 17ms/step\n",
      "\u001b[1m1/1\u001b[0m \u001b[32m━━━━━━━━━━━━━━━━━━━━\u001b[0m\u001b[37m\u001b[0m \u001b[1m0s\u001b[0m 17ms/step\n",
      "\u001b[1m1/1\u001b[0m \u001b[32m━━━━━━━━━━━━━━━━━━━━\u001b[0m\u001b[37m\u001b[0m \u001b[1m0s\u001b[0m 18ms/step\n",
      "\u001b[1m1/1\u001b[0m \u001b[32m━━━━━━━━━━━━━━━━━━━━\u001b[0m\u001b[37m\u001b[0m \u001b[1m0s\u001b[0m 16ms/step\n",
      "\u001b[1m1/1\u001b[0m \u001b[32m━━━━━━━━━━━━━━━━━━━━\u001b[0m\u001b[37m\u001b[0m \u001b[1m0s\u001b[0m 17ms/step\n",
      "\u001b[1m1/1\u001b[0m \u001b[32m━━━━━━━━━━━━━━━━━━━━\u001b[0m\u001b[37m\u001b[0m \u001b[1m0s\u001b[0m 17ms/step\n",
      "\u001b[1m1/1\u001b[0m \u001b[32m━━━━━━━━━━━━━━━━━━━━\u001b[0m\u001b[37m\u001b[0m \u001b[1m0s\u001b[0m 17ms/step\n",
      "\u001b[1m1/1\u001b[0m \u001b[32m━━━━━━━━━━━━━━━━━━━━\u001b[0m\u001b[37m\u001b[0m \u001b[1m0s\u001b[0m 18ms/step\n",
      "\u001b[1m1/1\u001b[0m \u001b[32m━━━━━━━━━━━━━━━━━━━━\u001b[0m\u001b[37m\u001b[0m \u001b[1m0s\u001b[0m 17ms/step\n",
      "\u001b[1m1/1\u001b[0m \u001b[32m━━━━━━━━━━━━━━━━━━━━\u001b[0m\u001b[37m\u001b[0m \u001b[1m0s\u001b[0m 18ms/step\n",
      "\u001b[1m1/1\u001b[0m \u001b[32m━━━━━━━━━━━━━━━━━━━━\u001b[0m\u001b[37m\u001b[0m \u001b[1m0s\u001b[0m 18ms/step\n",
      "\u001b[1m1/1\u001b[0m \u001b[32m━━━━━━━━━━━━━━━━━━━━\u001b[0m\u001b[37m\u001b[0m \u001b[1m0s\u001b[0m 17ms/step\n",
      "\u001b[1m1/1\u001b[0m \u001b[32m━━━━━━━━━━━━━━━━━━━━\u001b[0m\u001b[37m\u001b[0m \u001b[1m0s\u001b[0m 17ms/step\n",
      "\u001b[1m1/1\u001b[0m \u001b[32m━━━━━━━━━━━━━━━━━━━━\u001b[0m\u001b[37m\u001b[0m \u001b[1m0s\u001b[0m 17ms/step\n",
      "\u001b[1m1/1\u001b[0m \u001b[32m━━━━━━━━━━━━━━━━━━━━\u001b[0m\u001b[37m\u001b[0m \u001b[1m0s\u001b[0m 134ms/step\n"
     ]
    }
   ],
   "source": [
    "# base model\n",
    "# 删除对模型有害的特征\n",
    "X = data[features].values\n",
    "Y = data['target'].values\n",
    "X_seq, Y_seq = create_sequences(X, Y, time_steps)\n",
    "# GRU模型\n",
    "model = Sequential()\n",
    "model.add(Input(shape=(time_steps, X_seq.shape[2])))\n",
    "model.add(GRU(units=50, return_sequences=True))\n",
    "model.add(Dropout(0.2))\n",
    "model.add(GRU(units=20))\n",
    "model.add(Dropout(0.2))\n",
    "model.add(Dense(1))\n",
    "optimizer = Adam(learning_rate=0.001)\n",
    "model.compile(optimizer=optimizer, loss=rmse)\n",
    "# 训练模型\n",
    "base_test_losses, base_sum_test_loss, base_test_predictions, base_test_actuals = model_train_test_visual(epochs=20, batch_size=32, model=model, \n",
    "                                 X_seq = X_seq, Y_seq = Y_seq)"
   ]
  },
  {
   "cell_type": "code",
   "execution_count": 9,
   "metadata": {
    "execution": {
     "iopub.execute_input": "2025-03-30T16:43:28.637659Z",
     "iopub.status.busy": "2025-03-30T16:43:28.637316Z",
     "iopub.status.idle": "2025-03-30T16:43:28.643189Z",
     "shell.execute_reply": "2025-03-30T16:43:28.642534Z",
     "shell.execute_reply.started": "2025-03-30T16:43:28.637625Z"
    },
    "trusted": true
   },
   "outputs": [
    {
     "name": "stdout",
     "output_type": "stream",
     "text": [
      "baseline:134.6954\n",
      "baseline_mean_loss:2.138\n",
      "baseline_no_outliers_mean_loss:2.0216\n"
     ]
    }
   ],
   "source": [
    "print (f'baseline:{base_sum_test_loss}')\n",
    "print (f'baseline_mean_loss:{round(base_sum_test_loss/63,4)}')\n",
    "base_arr = np.array(base_test_losses)[np.array(base_test_losses) <= 4]\n",
    "no_outliers_mean_loss = np.mean(base_arr)\n",
    "print (f'baseline_no_outliers_mean_loss:{round(no_outliers_mean_loss,4)}')"
   ]
  },
  {
   "cell_type": "code",
   "execution_count": 10,
   "metadata": {
    "execution": {
     "iopub.execute_input": "2025-03-30T16:43:28.644317Z",
     "iopub.status.busy": "2025-03-30T16:43:28.644104Z",
     "iopub.status.idle": "2025-03-30T16:51:16.421612Z",
     "shell.execute_reply": "2025-03-30T16:51:16.420593Z",
     "shell.execute_reply.started": "2025-03-30T16:43:28.644298Z"
    },
    "trusted": true
   },
   "outputs": [
    {
     "data": {
      "application/vnd.jupyter.widget-view+json": {
       "model_id": "44e116a2956b431885e95445dc3c8dc7",
       "version_major": 2,
       "version_minor": 0
      },
      "text/plain": [
       "  0%|          | 0/63 [00:00<?, ?it/s]"
      ]
     },
     "metadata": {},
     "output_type": "display_data"
    },
    {
     "name": "stdout",
     "output_type": "stream",
     "text": [
      "\u001b[1m1/1\u001b[0m \u001b[32m━━━━━━━━━━━━━━━━━━━━\u001b[0m\u001b[37m\u001b[0m \u001b[1m0s\u001b[0m 126ms/step\n",
      "\u001b[1m1/1\u001b[0m \u001b[32m━━━━━━━━━━━━━━━━━━━━\u001b[0m\u001b[37m\u001b[0m \u001b[1m0s\u001b[0m 17ms/step\n",
      "\u001b[1m1/1\u001b[0m \u001b[32m━━━━━━━━━━━━━━━━━━━━\u001b[0m\u001b[37m\u001b[0m \u001b[1m0s\u001b[0m 17ms/step\n",
      "\u001b[1m1/1\u001b[0m \u001b[32m━━━━━━━━━━━━━━━━━━━━\u001b[0m\u001b[37m\u001b[0m \u001b[1m0s\u001b[0m 17ms/step\n",
      "\u001b[1m1/1\u001b[0m \u001b[32m━━━━━━━━━━━━━━━━━━━━\u001b[0m\u001b[37m\u001b[0m \u001b[1m0s\u001b[0m 16ms/step\n",
      "\u001b[1m1/1\u001b[0m \u001b[32m━━━━━━━━━━━━━━━━━━━━\u001b[0m\u001b[37m\u001b[0m \u001b[1m0s\u001b[0m 17ms/step\n",
      "\u001b[1m1/1\u001b[0m \u001b[32m━━━━━━━━━━━━━━━━━━━━\u001b[0m\u001b[37m\u001b[0m \u001b[1m0s\u001b[0m 18ms/step\n",
      "\u001b[1m1/1\u001b[0m \u001b[32m━━━━━━━━━━━━━━━━━━━━\u001b[0m\u001b[37m\u001b[0m \u001b[1m0s\u001b[0m 16ms/step\n",
      "\u001b[1m1/1\u001b[0m \u001b[32m━━━━━━━━━━━━━━━━━━━━\u001b[0m\u001b[37m\u001b[0m \u001b[1m0s\u001b[0m 16ms/step\n",
      "\u001b[1m1/1\u001b[0m \u001b[32m━━━━━━━━━━━━━━━━━━━━\u001b[0m\u001b[37m\u001b[0m \u001b[1m0s\u001b[0m 17ms/step\n",
      "\u001b[1m1/1\u001b[0m \u001b[32m━━━━━━━━━━━━━━━━━━━━\u001b[0m\u001b[37m\u001b[0m \u001b[1m0s\u001b[0m 16ms/step\n",
      "\u001b[1m1/1\u001b[0m \u001b[32m━━━━━━━━━━━━━━━━━━━━\u001b[0m\u001b[37m\u001b[0m \u001b[1m0s\u001b[0m 17ms/step\n",
      "\u001b[1m1/1\u001b[0m \u001b[32m━━━━━━━━━━━━━━━━━━━━\u001b[0m\u001b[37m\u001b[0m \u001b[1m0s\u001b[0m 16ms/step\n",
      "\u001b[1m1/1\u001b[0m \u001b[32m━━━━━━━━━━━━━━━━━━━━\u001b[0m\u001b[37m\u001b[0m \u001b[1m0s\u001b[0m 16ms/step\n",
      "\u001b[1m1/1\u001b[0m \u001b[32m━━━━━━━━━━━━━━━━━━━━\u001b[0m\u001b[37m\u001b[0m \u001b[1m0s\u001b[0m 17ms/step\n",
      "\u001b[1m1/1\u001b[0m \u001b[32m━━━━━━━━━━━━━━━━━━━━\u001b[0m\u001b[37m\u001b[0m \u001b[1m0s\u001b[0m 17ms/step\n",
      "\u001b[1m1/1\u001b[0m \u001b[32m━━━━━━━━━━━━━━━━━━━━\u001b[0m\u001b[37m\u001b[0m \u001b[1m0s\u001b[0m 17ms/step\n",
      "\u001b[1m1/1\u001b[0m \u001b[32m━━━━━━━━━━━━━━━━━━━━\u001b[0m\u001b[37m\u001b[0m \u001b[1m0s\u001b[0m 17ms/step\n",
      "\u001b[1m1/1\u001b[0m \u001b[32m━━━━━━━━━━━━━━━━━━━━\u001b[0m\u001b[37m\u001b[0m \u001b[1m0s\u001b[0m 18ms/step\n",
      "\u001b[1m1/1\u001b[0m \u001b[32m━━━━━━━━━━━━━━━━━━━━\u001b[0m\u001b[37m\u001b[0m \u001b[1m0s\u001b[0m 16ms/step\n",
      "\u001b[1m1/1\u001b[0m \u001b[32m━━━━━━━━━━━━━━━━━━━━\u001b[0m\u001b[37m\u001b[0m \u001b[1m0s\u001b[0m 16ms/step\n",
      "\u001b[1m1/1\u001b[0m \u001b[32m━━━━━━━━━━━━━━━━━━━━\u001b[0m\u001b[37m\u001b[0m \u001b[1m0s\u001b[0m 17ms/step\n",
      "\u001b[1m1/1\u001b[0m \u001b[32m━━━━━━━━━━━━━━━━━━━━\u001b[0m\u001b[37m\u001b[0m \u001b[1m0s\u001b[0m 17ms/step\n",
      "\u001b[1m1/1\u001b[0m \u001b[32m━━━━━━━━━━━━━━━━━━━━\u001b[0m\u001b[37m\u001b[0m \u001b[1m0s\u001b[0m 17ms/step\n",
      "\u001b[1m1/1\u001b[0m \u001b[32m━━━━━━━━━━━━━━━━━━━━\u001b[0m\u001b[37m\u001b[0m \u001b[1m0s\u001b[0m 16ms/step\n",
      "\u001b[1m1/1\u001b[0m \u001b[32m━━━━━━━━━━━━━━━━━━━━\u001b[0m\u001b[37m\u001b[0m \u001b[1m0s\u001b[0m 17ms/step\n",
      "\u001b[1m1/1\u001b[0m \u001b[32m━━━━━━━━━━━━━━━━━━━━\u001b[0m\u001b[37m\u001b[0m \u001b[1m0s\u001b[0m 17ms/step\n",
      "\u001b[1m1/1\u001b[0m \u001b[32m━━━━━━━━━━━━━━━━━━━━\u001b[0m\u001b[37m\u001b[0m \u001b[1m0s\u001b[0m 16ms/step\n",
      "\u001b[1m1/1\u001b[0m \u001b[32m━━━━━━━━━━━━━━━━━━━━\u001b[0m\u001b[37m\u001b[0m \u001b[1m0s\u001b[0m 16ms/step\n",
      "\u001b[1m1/1\u001b[0m \u001b[32m━━━━━━━━━━━━━━━━━━━━\u001b[0m\u001b[37m\u001b[0m \u001b[1m0s\u001b[0m 17ms/step\n",
      "\u001b[1m1/1\u001b[0m \u001b[32m━━━━━━━━━━━━━━━━━━━━\u001b[0m\u001b[37m\u001b[0m \u001b[1m0s\u001b[0m 17ms/step\n",
      "\u001b[1m1/1\u001b[0m \u001b[32m━━━━━━━━━━━━━━━━━━━━\u001b[0m\u001b[37m\u001b[0m \u001b[1m0s\u001b[0m 16ms/step\n",
      "\u001b[1m1/1\u001b[0m \u001b[32m━━━━━━━━━━━━━━━━━━━━\u001b[0m\u001b[37m\u001b[0m \u001b[1m0s\u001b[0m 16ms/step\n",
      "\u001b[1m1/1\u001b[0m \u001b[32m━━━━━━━━━━━━━━━━━━━━\u001b[0m\u001b[37m\u001b[0m \u001b[1m0s\u001b[0m 17ms/step\n",
      "\u001b[1m1/1\u001b[0m \u001b[32m━━━━━━━━━━━━━━━━━━━━\u001b[0m\u001b[37m\u001b[0m \u001b[1m0s\u001b[0m 17ms/step\n",
      "\u001b[1m1/1\u001b[0m \u001b[32m━━━━━━━━━━━━━━━━━━━━\u001b[0m\u001b[37m\u001b[0m \u001b[1m0s\u001b[0m 17ms/step\n",
      "\u001b[1m1/1\u001b[0m \u001b[32m━━━━━━━━━━━━━━━━━━━━\u001b[0m\u001b[37m\u001b[0m \u001b[1m0s\u001b[0m 17ms/step\n",
      "\u001b[1m1/1\u001b[0m \u001b[32m━━━━━━━━━━━━━━━━━━━━\u001b[0m\u001b[37m\u001b[0m \u001b[1m0s\u001b[0m 16ms/step\n",
      "\u001b[1m1/1\u001b[0m \u001b[32m━━━━━━━━━━━━━━━━━━━━\u001b[0m\u001b[37m\u001b[0m \u001b[1m0s\u001b[0m 18ms/step\n",
      "\u001b[1m1/1\u001b[0m \u001b[32m━━━━━━━━━━━━━━━━━━━━\u001b[0m\u001b[37m\u001b[0m \u001b[1m0s\u001b[0m 17ms/step\n",
      "\u001b[1m1/1\u001b[0m \u001b[32m━━━━━━━━━━━━━━━━━━━━\u001b[0m\u001b[37m\u001b[0m \u001b[1m0s\u001b[0m 17ms/step\n",
      "\u001b[1m1/1\u001b[0m \u001b[32m━━━━━━━━━━━━━━━━━━━━\u001b[0m\u001b[37m\u001b[0m \u001b[1m0s\u001b[0m 17ms/step\n",
      "\u001b[1m1/1\u001b[0m \u001b[32m━━━━━━━━━━━━━━━━━━━━\u001b[0m\u001b[37m\u001b[0m \u001b[1m0s\u001b[0m 16ms/step\n",
      "\u001b[1m1/1\u001b[0m \u001b[32m━━━━━━━━━━━━━━━━━━━━\u001b[0m\u001b[37m\u001b[0m \u001b[1m0s\u001b[0m 17ms/step\n",
      "\u001b[1m1/1\u001b[0m \u001b[32m━━━━━━━━━━━━━━━━━━━━\u001b[0m\u001b[37m\u001b[0m \u001b[1m0s\u001b[0m 16ms/step\n",
      "\u001b[1m1/1\u001b[0m \u001b[32m━━━━━━━━━━━━━━━━━━━━\u001b[0m\u001b[37m\u001b[0m \u001b[1m0s\u001b[0m 18ms/step\n",
      "\u001b[1m1/1\u001b[0m \u001b[32m━━━━━━━━━━━━━━━━━━━━\u001b[0m\u001b[37m\u001b[0m \u001b[1m0s\u001b[0m 17ms/step\n",
      "\u001b[1m1/1\u001b[0m \u001b[32m━━━━━━━━━━━━━━━━━━━━\u001b[0m\u001b[37m\u001b[0m \u001b[1m0s\u001b[0m 17ms/step\n",
      "\u001b[1m1/1\u001b[0m \u001b[32m━━━━━━━━━━━━━━━━━━━━\u001b[0m\u001b[37m\u001b[0m \u001b[1m0s\u001b[0m 16ms/step\n",
      "\u001b[1m1/1\u001b[0m \u001b[32m━━━━━━━━━━━━━━━━━━━━\u001b[0m\u001b[37m\u001b[0m \u001b[1m0s\u001b[0m 18ms/step\n",
      "\u001b[1m1/1\u001b[0m \u001b[32m━━━━━━━━━━━━━━━━━━━━\u001b[0m\u001b[37m\u001b[0m \u001b[1m0s\u001b[0m 17ms/step\n",
      "\u001b[1m1/1\u001b[0m \u001b[32m━━━━━━━━━━━━━━━━━━━━\u001b[0m\u001b[37m\u001b[0m \u001b[1m0s\u001b[0m 18ms/step\n",
      "\u001b[1m1/1\u001b[0m \u001b[32m━━━━━━━━━━━━━━━━━━━━\u001b[0m\u001b[37m\u001b[0m \u001b[1m0s\u001b[0m 17ms/step\n",
      "\u001b[1m1/1\u001b[0m \u001b[32m━━━━━━━━━━━━━━━━━━━━\u001b[0m\u001b[37m\u001b[0m \u001b[1m0s\u001b[0m 17ms/step\n",
      "\u001b[1m1/1\u001b[0m \u001b[32m━━━━━━━━━━━━━━━━━━━━\u001b[0m\u001b[37m\u001b[0m \u001b[1m0s\u001b[0m 16ms/step\n",
      "\u001b[1m1/1\u001b[0m \u001b[32m━━━━━━━━━━━━━━━━━━━━\u001b[0m\u001b[37m\u001b[0m \u001b[1m0s\u001b[0m 18ms/step\n",
      "\u001b[1m1/1\u001b[0m \u001b[32m━━━━━━━━━━━━━━━━━━━━\u001b[0m\u001b[37m\u001b[0m \u001b[1m0s\u001b[0m 17ms/step\n",
      "\u001b[1m1/1\u001b[0m \u001b[32m━━━━━━━━━━━━━━━━━━━━\u001b[0m\u001b[37m\u001b[0m \u001b[1m0s\u001b[0m 16ms/step\n",
      "\u001b[1m1/1\u001b[0m \u001b[32m━━━━━━━━━━━━━━━━━━━━\u001b[0m\u001b[37m\u001b[0m \u001b[1m0s\u001b[0m 16ms/step\n",
      "\u001b[1m1/1\u001b[0m \u001b[32m━━━━━━━━━━━━━━━━━━━━\u001b[0m\u001b[37m\u001b[0m \u001b[1m0s\u001b[0m 17ms/step\n",
      "\u001b[1m1/1\u001b[0m \u001b[32m━━━━━━━━━━━━━━━━━━━━\u001b[0m\u001b[37m\u001b[0m \u001b[1m0s\u001b[0m 17ms/step\n",
      "\u001b[1m1/1\u001b[0m \u001b[32m━━━━━━━━━━━━━━━━━━━━\u001b[0m\u001b[37m\u001b[0m \u001b[1m0s\u001b[0m 17ms/step\n",
      "\u001b[1m1/1\u001b[0m \u001b[32m━━━━━━━━━━━━━━━━━━━━\u001b[0m\u001b[37m\u001b[0m \u001b[1m0s\u001b[0m 139ms/step\n"
     ]
    }
   ],
   "source": [
    "# updated model\n",
    "# 删除对模型有害的特征\n",
    "feature_importance = pd.read_csv(csv_file_path)\n",
    "features_updated = feature_importance.loc[feature_importance['Importance']>0, 'Feature']\n",
    "X = data[features_updated].values\n",
    "Y = data['target'].values\n",
    "X_seq, Y_seq = create_sequences(X, Y, time_steps)\n",
    "\n",
    "# GRU模型\n",
    "model = Sequential()\n",
    "model.add(Input(shape=(time_steps, X_seq.shape[2])))\n",
    "model.add(GRU(units=50, return_sequences=True))\n",
    "model.add(Dropout(0.2))\n",
    "model.add(GRU(units=20))\n",
    "model.add(Dropout(0.2))\n",
    "model.add(Dense(1))\n",
    "optimizer = Adam(learning_rate=0.001)\n",
    "model.compile(optimizer=optimizer, loss=rmse)\n",
    "\n",
    "# 训练模型\n",
    "updated_test_losses, updated_sum_test_loss, updated_test_predictions, updated_test_actuals = model_train_test_visual(epochs=20, batch_size=32, model=model, \n",
    "                                 X_seq = X_seq, Y_seq = Y_seq)"
   ]
  },
  {
   "cell_type": "code",
   "execution_count": 11,
   "metadata": {
    "execution": {
     "iopub.execute_input": "2025-03-30T16:51:16.422746Z",
     "iopub.status.busy": "2025-03-30T16:51:16.422462Z",
     "iopub.status.idle": "2025-03-30T16:51:16.428252Z",
     "shell.execute_reply": "2025-03-30T16:51:16.427432Z",
     "shell.execute_reply.started": "2025-03-30T16:51:16.422711Z"
    },
    "trusted": true
   },
   "outputs": [
    {
     "name": "stdout",
     "output_type": "stream",
     "text": [
      "updated:136.27020000000002\n",
      "updated_mean_loss:2.163\n",
      "updated_no_outliers_mean_loss:2.0349\n"
     ]
    }
   ],
   "source": [
    "print (f'updated:{updated_sum_test_loss}')\n",
    "print (f'updated_mean_loss:{round(updated_sum_test_loss/63,4)}')\n",
    "updated_arr = np.array(updated_test_losses)[np.array(updated_test_losses) <= 4]\n",
    "no_outliers_mean_loss = np.mean(updated_arr)\n",
    "print (f'updated_no_outliers_mean_loss:{round(no_outliers_mean_loss,4)}')"
   ]
  },
  {
   "cell_type": "code",
   "execution_count": 12,
   "metadata": {
    "execution": {
     "iopub.execute_input": "2025-03-30T16:51:16.429275Z",
     "iopub.status.busy": "2025-03-30T16:51:16.429066Z",
     "iopub.status.idle": "2025-03-30T16:51:16.443323Z",
     "shell.execute_reply": "2025-03-30T16:51:16.442533Z",
     "shell.execute_reply.started": "2025-03-30T16:51:16.429256Z"
    },
    "trusted": true
   },
   "outputs": [],
   "source": [
    "flattened_test_predictions = []\n",
    "for arr in base_test_predictions:\n",
    "    flattened_test_predictions.extend([float(x) for sublist in arr.tolist() for x in sublist])\n",
    "\n",
    "flattened_test_actuals = []\n",
    "for arr in base_test_actuals:\n",
    "    flattened_test_actuals.extend([float(x) for sublist in arr.tolist() for x in sublist])"
   ]
  },
  {
   "cell_type": "code",
   "execution_count": 40,
   "metadata": {
    "execution": {
     "iopub.execute_input": "2025-03-30T17:05:31.151191Z",
     "iopub.status.busy": "2025-03-30T17:05:31.150885Z",
     "iopub.status.idle": "2025-03-30T17:05:31.165842Z",
     "shell.execute_reply": "2025-03-30T17:05:31.165119Z",
     "shell.execute_reply.started": "2025-03-30T17:05:31.151169Z"
    },
    "trusted": true
   },
   "outputs": [],
   "source": [
    "data_test_result = pd.DataFrame({\n",
    "    'pred': flattened_test_predictions,\n",
    "    'actual': flattened_test_actuals},\n",
    "    index = data[6970:]['Date'])\n",
    "data_test_result['pred'] = data_test_result['pred'].apply(lambda x: round(x,1))\n",
    "data_test_result.to_csv('data_test_result')\n",
    "\n",
    "data_test_losses = pd.DataFrame([base_test_losses]).T\n",
    "data_test_losses['losses'] = data_test_losses[0]\n",
    "data_test_losses.drop(columns = [0], inplace = True)\n",
    "data_test_losses.to_csv('data_test_losses')"
   ]
  }
 ],
 "metadata": {
  "accelerator": "GPU",
  "colab": {
   "gpuType": "T4",
   "provenance": []
  },
  "kaggle": {
   "accelerator": "gpu",
   "dataSources": [
    {
     "datasetId": 7005393,
     "sourceId": 11217910,
     "sourceType": "datasetVersion"
    },
    {
     "datasetId": 7005409,
     "sourceId": 11217928,
     "sourceType": "datasetVersion"
    }
   ],
   "dockerImageVersionId": 30919,
   "isGpuEnabled": true,
   "isInternetEnabled": true,
   "language": "python",
   "sourceType": "notebook"
  },
  "kernelspec": {
   "display_name": "Work",
   "language": "python",
   "name": "python3"
  },
  "language_info": {
   "codemirror_mode": {
    "name": "ipython",
    "version": 3
   },
   "file_extension": ".py",
   "mimetype": "text/x-python",
   "name": "python",
   "nbconvert_exporter": "python",
   "pygments_lexer": "ipython3",
   "version": "3.12.8"
  },
  "widgets": {
   "application/vnd.jupyter.widget-state+json": {
    "07e80042cd3c4c739933aff0fa96acfa": {
     "model_module": "@jupyter-widgets/controls",
     "model_module_version": "1.5.0",
     "model_name": "HBoxModel",
     "state": {
      "_dom_classes": [],
      "_model_module": "@jupyter-widgets/controls",
      "_model_module_version": "1.5.0",
      "_model_name": "HBoxModel",
      "_view_count": null,
      "_view_module": "@jupyter-widgets/controls",
      "_view_module_version": "1.5.0",
      "_view_name": "HBoxView",
      "box_style": "",
      "children": [
       "IPY_MODEL_cdf25e96c1424ff7bc2505dbf38d4cf2",
       "IPY_MODEL_e59fd5331dfd45869a39b9ec0d3dca16",
       "IPY_MODEL_a7b24bd736174f498c4619f59d21ef17"
      ],
      "layout": "IPY_MODEL_2fd8a3b882294ee38f7273d35f9d1e87"
     }
    },
    "1b72a01c6b80411b8671656ccc843f02": {
     "model_module": "@jupyter-widgets/base",
     "model_module_version": "1.2.0",
     "model_name": "LayoutModel",
     "state": {
      "_model_module": "@jupyter-widgets/base",
      "_model_module_version": "1.2.0",
      "_model_name": "LayoutModel",
      "_view_count": null,
      "_view_module": "@jupyter-widgets/base",
      "_view_module_version": "1.2.0",
      "_view_name": "LayoutView",
      "align_content": null,
      "align_items": null,
      "align_self": null,
      "border": null,
      "bottom": null,
      "display": null,
      "flex": null,
      "flex_flow": null,
      "grid_area": null,
      "grid_auto_columns": null,
      "grid_auto_flow": null,
      "grid_auto_rows": null,
      "grid_column": null,
      "grid_gap": null,
      "grid_row": null,
      "grid_template_areas": null,
      "grid_template_columns": null,
      "grid_template_rows": null,
      "height": null,
      "justify_content": null,
      "justify_items": null,
      "left": null,
      "margin": null,
      "max_height": null,
      "max_width": null,
      "min_height": null,
      "min_width": null,
      "object_fit": null,
      "object_position": null,
      "order": null,
      "overflow": null,
      "overflow_x": null,
      "overflow_y": null,
      "padding": null,
      "right": null,
      "top": null,
      "visibility": null,
      "width": null
     }
    },
    "2fd8a3b882294ee38f7273d35f9d1e87": {
     "model_module": "@jupyter-widgets/base",
     "model_module_version": "1.2.0",
     "model_name": "LayoutModel",
     "state": {
      "_model_module": "@jupyter-widgets/base",
      "_model_module_version": "1.2.0",
      "_model_name": "LayoutModel",
      "_view_count": null,
      "_view_module": "@jupyter-widgets/base",
      "_view_module_version": "1.2.0",
      "_view_name": "LayoutView",
      "align_content": null,
      "align_items": null,
      "align_self": null,
      "border": null,
      "bottom": null,
      "display": null,
      "flex": null,
      "flex_flow": null,
      "grid_area": null,
      "grid_auto_columns": null,
      "grid_auto_flow": null,
      "grid_auto_rows": null,
      "grid_column": null,
      "grid_gap": null,
      "grid_row": null,
      "grid_template_areas": null,
      "grid_template_columns": null,
      "grid_template_rows": null,
      "height": null,
      "justify_content": null,
      "justify_items": null,
      "left": null,
      "margin": null,
      "max_height": null,
      "max_width": null,
      "min_height": null,
      "min_width": null,
      "object_fit": null,
      "object_position": null,
      "order": null,
      "overflow": null,
      "overflow_x": null,
      "overflow_y": null,
      "padding": null,
      "right": null,
      "top": null,
      "visibility": null,
      "width": null
     }
    },
    "354dd676d9814ccd956d5ae83f471c53": {
     "model_module": "@jupyter-widgets/controls",
     "model_module_version": "1.5.0",
     "model_name": "DescriptionStyleModel",
     "state": {
      "_model_module": "@jupyter-widgets/controls",
      "_model_module_version": "1.5.0",
      "_model_name": "DescriptionStyleModel",
      "_view_count": null,
      "_view_module": "@jupyter-widgets/base",
      "_view_module_version": "1.2.0",
      "_view_name": "StyleView",
      "description_width": ""
     }
    },
    "37ff6c78897f47109e928a0d255de1dd": {
     "model_module": "@jupyter-widgets/controls",
     "model_module_version": "1.5.0",
     "model_name": "DescriptionStyleModel",
     "state": {
      "_model_module": "@jupyter-widgets/controls",
      "_model_module_version": "1.5.0",
      "_model_name": "DescriptionStyleModel",
      "_view_count": null,
      "_view_module": "@jupyter-widgets/base",
      "_view_module_version": "1.2.0",
      "_view_name": "StyleView",
      "description_width": ""
     }
    },
    "61c91892348e41c3bf7cfd9bafae2ad7": {
     "model_module": "@jupyter-widgets/controls",
     "model_module_version": "1.5.0",
     "model_name": "ProgressStyleModel",
     "state": {
      "_model_module": "@jupyter-widgets/controls",
      "_model_module_version": "1.5.0",
      "_model_name": "ProgressStyleModel",
      "_view_count": null,
      "_view_module": "@jupyter-widgets/base",
      "_view_module_version": "1.2.0",
      "_view_name": "StyleView",
      "bar_color": null,
      "description_width": ""
     }
    },
    "731b0356bb314774a297b40fab2f3806": {
     "model_module": "@jupyter-widgets/base",
     "model_module_version": "1.2.0",
     "model_name": "LayoutModel",
     "state": {
      "_model_module": "@jupyter-widgets/base",
      "_model_module_version": "1.2.0",
      "_model_name": "LayoutModel",
      "_view_count": null,
      "_view_module": "@jupyter-widgets/base",
      "_view_module_version": "1.2.0",
      "_view_name": "LayoutView",
      "align_content": null,
      "align_items": null,
      "align_self": null,
      "border": null,
      "bottom": null,
      "display": null,
      "flex": null,
      "flex_flow": null,
      "grid_area": null,
      "grid_auto_columns": null,
      "grid_auto_flow": null,
      "grid_auto_rows": null,
      "grid_column": null,
      "grid_gap": null,
      "grid_row": null,
      "grid_template_areas": null,
      "grid_template_columns": null,
      "grid_template_rows": null,
      "height": null,
      "justify_content": null,
      "justify_items": null,
      "left": null,
      "margin": null,
      "max_height": null,
      "max_width": null,
      "min_height": null,
      "min_width": null,
      "object_fit": null,
      "object_position": null,
      "order": null,
      "overflow": null,
      "overflow_x": null,
      "overflow_y": null,
      "padding": null,
      "right": null,
      "top": null,
      "visibility": null,
      "width": null
     }
    },
    "a7b24bd736174f498c4619f59d21ef17": {
     "model_module": "@jupyter-widgets/controls",
     "model_module_version": "1.5.0",
     "model_name": "HTMLModel",
     "state": {
      "_dom_classes": [],
      "_model_module": "@jupyter-widgets/controls",
      "_model_module_version": "1.5.0",
      "_model_name": "HTMLModel",
      "_view_count": null,
      "_view_module": "@jupyter-widgets/controls",
      "_view_module_version": "1.5.0",
      "_view_name": "HTMLView",
      "description": "",
      "description_tooltip": null,
      "layout": "IPY_MODEL_1b72a01c6b80411b8671656ccc843f02",
      "placeholder": "​",
      "style": "IPY_MODEL_37ff6c78897f47109e928a0d255de1dd",
      "value": " 12/63 [02:47&lt;09:35, 11.28s/it]"
     }
    },
    "cdf25e96c1424ff7bc2505dbf38d4cf2": {
     "model_module": "@jupyter-widgets/controls",
     "model_module_version": "1.5.0",
     "model_name": "HTMLModel",
     "state": {
      "_dom_classes": [],
      "_model_module": "@jupyter-widgets/controls",
      "_model_module_version": "1.5.0",
      "_model_name": "HTMLModel",
      "_view_count": null,
      "_view_module": "@jupyter-widgets/controls",
      "_view_module_version": "1.5.0",
      "_view_name": "HTMLView",
      "description": "",
      "description_tooltip": null,
      "layout": "IPY_MODEL_731b0356bb314774a297b40fab2f3806",
      "placeholder": "​",
      "style": "IPY_MODEL_354dd676d9814ccd956d5ae83f471c53",
      "value": " 19%"
     }
    },
    "e59fd5331dfd45869a39b9ec0d3dca16": {
     "model_module": "@jupyter-widgets/controls",
     "model_module_version": "1.5.0",
     "model_name": "FloatProgressModel",
     "state": {
      "_dom_classes": [],
      "_model_module": "@jupyter-widgets/controls",
      "_model_module_version": "1.5.0",
      "_model_name": "FloatProgressModel",
      "_view_count": null,
      "_view_module": "@jupyter-widgets/controls",
      "_view_module_version": "1.5.0",
      "_view_name": "ProgressView",
      "bar_style": "danger",
      "description": "",
      "description_tooltip": null,
      "layout": "IPY_MODEL_e6933b8f4ad044eb83ae525d044ceddb",
      "max": 63,
      "min": 0,
      "orientation": "horizontal",
      "style": "IPY_MODEL_61c91892348e41c3bf7cfd9bafae2ad7",
      "value": 12
     }
    },
    "e6933b8f4ad044eb83ae525d044ceddb": {
     "model_module": "@jupyter-widgets/base",
     "model_module_version": "1.2.0",
     "model_name": "LayoutModel",
     "state": {
      "_model_module": "@jupyter-widgets/base",
      "_model_module_version": "1.2.0",
      "_model_name": "LayoutModel",
      "_view_count": null,
      "_view_module": "@jupyter-widgets/base",
      "_view_module_version": "1.2.0",
      "_view_name": "LayoutView",
      "align_content": null,
      "align_items": null,
      "align_self": null,
      "border": null,
      "bottom": null,
      "display": null,
      "flex": null,
      "flex_flow": null,
      "grid_area": null,
      "grid_auto_columns": null,
      "grid_auto_flow": null,
      "grid_auto_rows": null,
      "grid_column": null,
      "grid_gap": null,
      "grid_row": null,
      "grid_template_areas": null,
      "grid_template_columns": null,
      "grid_template_rows": null,
      "height": null,
      "justify_content": null,
      "justify_items": null,
      "left": null,
      "margin": null,
      "max_height": null,
      "max_width": null,
      "min_height": null,
      "min_width": null,
      "object_fit": null,
      "object_position": null,
      "order": null,
      "overflow": null,
      "overflow_x": null,
      "overflow_y": null,
      "padding": null,
      "right": null,
      "top": null,
      "visibility": null,
      "width": null
     }
    }
   }
  }
 },
 "nbformat": 4,
 "nbformat_minor": 4
}
