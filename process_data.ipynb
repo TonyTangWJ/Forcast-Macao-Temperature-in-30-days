{
 "cells": [
  {
   "cell_type": "code",
   "execution_count": 1,
   "metadata": {},
   "outputs": [],
   "source": [
    "import pandas as pd\n",
    "pd.set_option('future.no_silent_downcasting', True)"
   ]
  },
  {
   "cell_type": "code",
   "execution_count": 2,
   "metadata": {},
   "outputs": [],
   "source": [
    "# read csv data\n",
    "data_raw = pd.read_csv('weather_data.csv')\n",
    "# drop the column 'Precipitation', due to all-zero values\n",
    "data = data_raw.drop(columns=['Precipitation'])\n",
    "# change the month jan to 1, feb to 2, etc.\n",
    "month_mapping = {\n",
    "    \"Jan\": 1, \"Feb\": 2, \"Mar\": 3, \"Apr\": 4, \"May\": 5, \"Jun\": 6,\n",
    "    \"Jul\": 7, \"Aug\": 8, \"Sep\": 9, \"Oct\": 10, \"Nov\": 11, \"Dec\": 12\n",
    "}\n",
    "data['Month'] = data['Month'].replace(month_mapping)\n",
    "# change the year, month, day to datetime format\n",
    "data['Date'] = pd.to_datetime(data[['year', 'Month', 'Day']])\n",
    "# drop the original year, month, day columns\n",
    "data = data.drop(columns=['year', 'Month', 'Day'])\n",
    "# set the Date column as index\n",
    "data = data.set_index('Date')\n",
    "# change the data type to float\n",
    "data = data.astype(float)"
   ]
  },
  {
   "cell_type": "code",
   "execution_count": 3,
   "metadata": {},
   "outputs": [],
   "source": [
    "# outliers\n",
    "\n",
    "# Temperature \n",
    "# convert 0 to the average of the other two\n",
    "data.loc[data['Temp_Min'] == 0, 'Temp_Min'] = ((data.loc[data['Temp_Min'] == 0, 'Temp_Avg'] * 2) - data.loc[data['Temp_Min'] == 0, 'Temp_Max']).apply(lambda x: round(x, 1))\n",
    "# convert Temp_Min <= 30 to 30\n",
    "data.loc[data['Temp_Min'] <= 30, 'Temp_Min'] = 30\n",
    "\n",
    "# Dew\n",
    "# convert Dew_Min <= 0 to the average of the other two\n",
    "data.loc[data['Dew_Min'] <= 0, 'Dew_Min'] = ((data.loc[data['Dew_Min'] <= 0, 'Dew_Avg'] * 2) - data.loc[data['Dew_Min'] <= 0, 'Dew_Max']).apply(lambda x: round(x, 1))\n",
    "# convert Dew_Min <= 10 to 10\n",
    "data.loc[data['Dew_Min'] <= 10, 'Dew_Min'] = 10\n",
    "\n",
    "# Humidity\n",
    "# convert Humidity_Min <= 0 to the average of the other two\n",
    "data.loc[data['Humidity_Min'] <= 0, 'Humidity_Min'] = ((data.loc[data['Humidity_Min'] <= 0, 'Humidity_Avg'] * 2) - data.loc[data['Humidity_Min'] <= 0, 'Humidity_Max']).apply(lambda x: round(x, 1))\n",
    "# convert Humidity_Min <= 20 to 20\n",
    "data.loc[data['Humidity_Min'] <= 20, 'Humidity_Min'] = 20\n",
    "\n",
    "# Wind\n",
    "# convert Wind_Max >= 50 to 50\n",
    "data.loc[data['Wind_Max'] >= 50, 'Wind_Max'] = 50\n",
    "\n",
    "# Pressure\n",
    "# convert Pressure_Avg <27.3 to 27.3\n",
    "data.loc[data['Pressure_Avg'] < 27.3, 'Pressure_Avg'] = 27.3\n",
    "# convert Pressure_Min = 0 to the average of the other two\n",
    "data.loc[data['Pressure_Min'] == 0, 'Pressure_Min'] = ((data.loc[data['Pressure_Min'] == 0, 'Pressure_Avg'] * 2) - data.loc[data['Pressure_Min'] == 0, 'Pressure_Max']).apply(lambda x: round(x, 1))"
   ]
  },
  {
   "cell_type": "code",
   "execution_count": 4,
   "metadata": {},
   "outputs": [],
   "source": [
    "# add features\n",
    "# Temp\n",
    "data['Temp_Max_3'] = data['Temp_Max'].rolling(window=3).mean().apply(lambda x: round(x, 2))\n",
    "data['Temp_Max_7'] = data['Temp_Max'].rolling(window=7).mean().apply(lambda x: round(x, 2))\n",
    "data['Temp_Min_3'] = data['Temp_Min'].rolling(window=3).mean().apply(lambda x: round(x, 2))\n",
    "data['Temp_Min_7'] = data['Temp_Min'].rolling(window=7).mean().apply(lambda x: round(x, 2))\n",
    "data['Temp_Avg_3'] = data['Temp_Avg'].rolling(window=3).mean().apply(lambda x: round(x, 2))\n",
    "data['Temp_Avg_7'] = data['Temp_Avg'].rolling(window=7).mean().apply(lambda x: round(x, 2))\n",
    "data['Temp_Diff_Max_Avg'] = (data['Temp_Max'] - data['Temp_Avg']).apply(lambda x: round(x, 2))\n",
    "data['Temp_Diff_Min_Avg'] = (data['Temp_Min'] - data['Temp_Avg']).apply(lambda x: round(x, 2))\n",
    "data['Temp_Diff_Max_Min'] = (data['Temp_Max'] - data['Temp_Min']).apply(lambda x: round(x, 2))\n",
    "\n",
    "# Dew\n",
    "data['Dew_Max_3'] = data['Dew_Max'].rolling(window=3).mean().apply(lambda x: round(x, 2))\n",
    "data['Dew_Max_7'] = data['Dew_Max'].rolling(window=7).mean().apply(lambda x: round(x, 2))\n",
    "data['Dew_Min_3'] = data['Dew_Min'].rolling(window=3).mean().apply(lambda x: round(x, 2))\n",
    "data['Dew_Min_7'] = data['Dew_Min'].rolling(window=7).mean().apply(lambda x: round(x, 2))\n",
    "data['Dew_Avg_3'] = data['Dew_Avg'].rolling(window=3).mean().apply(lambda x: round(x, 2))\n",
    "data['Dew_Avg_7'] = data['Dew_Avg'].rolling(window=7).mean().apply(lambda x: round(x, 2))\n",
    "data['Dew_Diff_Max_Avg'] = (data['Dew_Max'] - data['Dew_Avg']).apply(lambda x: round(x, 2))\n",
    "data['Dew_Diff_Min_Avg'] = (data['Dew_Min'] - data['Dew_Avg']).apply(lambda x: round(x, 2))\n",
    "data['Dew_Diff_Max_Min'] = (data['Dew_Max'] - data['Dew_Min']).apply(lambda x: round(x, 2))\n",
    "\n",
    "# Humidity\n",
    "data['Humidity_Max_3'] = data['Humidity_Max'].rolling(window=3).mean().apply(lambda x: round(x, 2))\n",
    "data['Humidity_Max_7'] = data['Humidity_Max'].rolling(window=7).mean().apply(lambda x: round(x, 2))\n",
    "data['Humidity_Min_3'] = data['Humidity_Min'].rolling(window=3).mean().apply(lambda x: round(x, 2))\n",
    "data['Humidity_Min_7'] = data['Humidity_Min'].rolling(window=7).mean().apply(lambda x: round(x, 2))\n",
    "data['Humidity_Avg_3'] = data['Humidity_Avg'].rolling(window=3).mean().apply(lambda x: round(x, 2))\n",
    "data['Humidity_Avg_7'] = data['Humidity_Avg'].rolling(window=7).mean().apply(lambda x: round(x, 2))\n",
    "data['Humidity_Diff_Max_Avg'] = (data['Humidity_Max'] - data['Humidity_Avg']).apply(lambda x: round(x, 2))\n",
    "data['Humidity_Diff_Min_Avg'] = (data['Humidity_Min'] - data['Humidity_Avg']).apply(lambda x: round(x, 2))\n",
    "data['Humidity_Diff_Max_Min'] = (data['Humidity_Max'] - data['Humidity_Min']).apply(lambda x: round(x, 2))\n",
    "\n",
    "# Wind\n",
    "data['Wind_Max_3'] = data['Wind_Max'].rolling(window=3).mean().apply(lambda x: round(x, 2))\n",
    "data['Wind_Max_7'] = data['Wind_Max'].rolling(window=7).mean().apply(lambda x: round(x, 2))\n",
    "data['Wind_Min_3'] = data['Wind_Min'].rolling(window=3).mean().apply(lambda x: round(x, 2))\n",
    "data['Wind_Min_7'] = data['Wind_Min'].rolling(window=7).mean().apply(lambda x: round(x, 2))\n",
    "data['Wind_Avg_3'] = data['Wind_Avg'].rolling(window=3).mean().apply(lambda x: round(x, 2))\n",
    "data['Wind_Avg_7'] = data['Wind_Avg'].rolling(window=7).mean().apply(lambda x: round(x, 2))\n",
    "data['Wind_Diff_Max_Avg'] = (data['Wind_Max'] - data['Wind_Avg']).apply(lambda x: round(x, 2))\n",
    "data['Wind_Diff_Min_Avg'] = (data['Wind_Min'] - data['Wind_Avg']).apply(lambda x: round(x, 2))\n",
    "data['Wind_Diff_Max_Min'] = (data['Wind_Max'] - data['Wind_Min']).apply(lambda x: round(x, 2))\n",
    "\n",
    "# Pressure\n",
    "data['Pressure_Max_3'] = data['Pressure_Max'].rolling(window=3).mean().apply(lambda x: round(x, 2))\n",
    "data['Pressure_Max_7'] = data['Pressure_Max'].rolling(window=7).mean().apply(lambda x: round(x, 2))\n",
    "data['Pressure_Min_3'] = data['Pressure_Min'].rolling(window=3).mean().apply(lambda x: round(x, 2))\n",
    "data['Pressure_Min_7'] = data['Pressure_Min'].rolling(window=7).mean().apply(lambda x: round(x, 2))\n",
    "data['Pressure_Avg_3'] = data['Pressure_Avg'].rolling(window=3).mean().apply(lambda x: round(x, 2))\n",
    "data['Pressure_Avg_7'] = data['Pressure_Avg'].rolling(window=7).mean().apply(lambda x: round(x, 2))\n",
    "data['Pressure_Diff_Max_Avg'] = (data['Pressure_Max'] - data['Pressure_Avg']).apply(lambda x: round(x, 2))\n",
    "data['Pressure_Diff_Min_Avg'] = (data['Pressure_Min'] - data['Pressure_Avg']).apply(lambda x: round(x, 2))\n",
    "data['Pressure_Diff_Max_Min'] = (data['Pressure_Max'] - data['Pressure_Min']).apply(lambda x: round(x, 2))\n"
   ]
  },
  {
   "cell_type": "code",
   "execution_count": 10,
   "metadata": {},
   "outputs": [
    {
     "data": {
      "text/plain": [
       "7307"
      ]
     },
     "execution_count": 10,
     "metadata": {},
     "output_type": "execute_result"
    }
   ],
   "source": [
    "data_test = data[data.index <= '2021-01-01']\n",
    "len(data_test) # 1095 rows"
   ]
  },
  {
   "cell_type": "code",
   "execution_count": null,
   "metadata": {},
   "outputs": [],
   "source": [
    "# set the target column\n",
    "data['target'] = data['Temp_Avg']\n",
    "data = data.dropna()\n",
    "# save new data to csv\n",
    "data.to_csv('weather_data_cleaned.csv')"
   ]
  }
 ],
 "metadata": {
  "kernelspec": {
   "display_name": "Work",
   "language": "python",
   "name": "python3"
  },
  "language_info": {
   "codemirror_mode": {
    "name": "ipython",
    "version": 3
   },
   "file_extension": ".py",
   "mimetype": "text/x-python",
   "name": "python",
   "nbconvert_exporter": "python",
   "pygments_lexer": "ipython3",
   "version": "3.12.8"
  }
 },
 "nbformat": 4,
 "nbformat_minor": 2
}
